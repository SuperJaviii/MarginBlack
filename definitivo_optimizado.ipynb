{
 "cells": [
  {
   "cell_type": "code",
   "execution_count": 2,
   "metadata": {},
   "outputs": [],
   "source": [
    "import pandas as pd\n"
   ]
  },
  {
   "cell_type": "code",
   "execution_count": 30,
   "metadata": {
    "scrolled": true
   },
   "outputs": [
    {
     "name": "stdout",
     "output_type": "stream",
     "text": [
      "Wall time: 64.2 ms\n"
     ]
    },
    {
     "name": "stderr",
     "output_type": "stream",
     "text": [
      "C:\\Program Files (x86)\\Microsoft Visual Studio\\Shared\\Anaconda3_64\\lib\\site-packages\\ipykernel_launcher.py:23: SettingWithCopyWarning: \n",
      "A value is trying to be set on a copy of a slice from a DataFrame\n",
      "\n",
      "See the caveats in the documentation: http://pandas.pydata.org/pandas-docs/stable/indexing.html#indexing-view-versus-copy\n"
     ]
    }
   ],
   "source": [
    "mkt = pd.read_excel(\"MKT.xlsx\")\n",
    "\n",
    "def cambiarNAT(x):\n",
    "    if str(x) == \"NaT\":\n",
    "        return ('1900-01-01')\n",
    "    else:\n",
    "        return x\n",
    "\n",
    "mkt.columns = list(map(lambda x: x.lower().replace(\" \", \"_\"), mkt.columns))\n",
    "columnas = list(mkt.columns)\n",
    "\n",
    "for k in range(len(columnas)):\n",
    "    lista = list(mkt[columnas[k]])\n",
    "\n",
    "    mkt[columnas[k]] = list(map(lambda x: cambiarNAT(x), mkt[columnas[k]]))\n",
    "    for i in range(len(lista)):\n",
    "\n",
    "        j = 0\n",
    "        while (j < len(lista)- 1 and str(lista[j]) == \"nan\"):\n",
    "            j += 1\n",
    "        if (str(lista[i]) == \"nan\") and (j != len(lista)-1):\n",
    "            if (type(lista[j]) == float) or (type(lista[j]) == int):\n",
    "                mkt[columnas[k]][i] = 0    \n",
    "mkt     "
   ]
  },
  {
   "cell_type": "code",
   "execution_count": 223,
   "metadata": {},
   "outputs": [],
   "source": []
  },
  {
   "cell_type": "code",
   "execution_count": null,
   "metadata": {},
   "outputs": [],
   "source": []
  }
 ],
 "metadata": {
  "kernelspec": {
   "display_name": "Python 3",
   "language": "python",
   "name": "python3"
  },
  "language_info": {
   "codemirror_mode": {
    "name": "ipython",
    "version": 3
   },
   "file_extension": ".py",
   "mimetype": "text/x-python",
   "name": "python",
   "nbconvert_exporter": "python",
   "pygments_lexer": "ipython3",
   "version": "3.6.5"
  }
 },
 "nbformat": 4,
 "nbformat_minor": 2
}
